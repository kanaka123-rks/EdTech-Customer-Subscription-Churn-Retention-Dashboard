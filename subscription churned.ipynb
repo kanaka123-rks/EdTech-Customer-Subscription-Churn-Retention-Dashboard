{
 "cells": [
  {
   "cell_type": "code",
   "execution_count": 35,
   "id": "5fee6e38-796a-44d5-93a2-22097082388e",
   "metadata": {},
   "outputs": [],
   "source": [
    "import pandas as pd\n",
    "import numpy as np\n",
    "\n",
    "\n",
    "df = pd.read_excel(\"C:/Users/kanak/OneDrive/Documents/subscription_churn_india.xlsx\")\n",
    "\n"
   ]
  },
  {
   "cell_type": "code",
   "execution_count": 49,
   "id": "976b3442-93de-4406-9447-ebc6e867be98",
   "metadata": {},
   "outputs": [
    {
     "data": {
      "text/html": [
       "<div>\n",
       "<style scoped>\n",
       "    .dataframe tbody tr th:only-of-type {\n",
       "        vertical-align: middle;\n",
       "    }\n",
       "\n",
       "    .dataframe tbody tr th {\n",
       "        vertical-align: top;\n",
       "    }\n",
       "\n",
       "    .dataframe thead th {\n",
       "        text-align: right;\n",
       "    }\n",
       "</style>\n",
       "<table border=\"1\" class=\"dataframe\">\n",
       "  <thead>\n",
       "    <tr style=\"text-align: right;\">\n",
       "      <th></th>\n",
       "      <th>CustomerID</th>\n",
       "      <th>JoinDate</th>\n",
       "      <th>CancelDate</th>\n",
       "      <th>PlanType</th>\n",
       "      <th>MonthlyFee</th>\n",
       "      <th>MonthlyHoursWatched</th>\n",
       "      <th>SupportContacts</th>\n",
       "      <th>AutoRenew</th>\n",
       "      <th>PaymentMethod</th>\n",
       "      <th>Region</th>\n",
       "      <th>country</th>\n",
       "      <th>IsChurned</th>\n",
       "    </tr>\n",
       "  </thead>\n",
       "  <tbody>\n",
       "    <tr>\n",
       "      <th>0</th>\n",
       "      <td>CUST0001</td>\n",
       "      <td>2023-07-10</td>\n",
       "      <td>NaT</td>\n",
       "      <td>Basic</td>\n",
       "      <td>10</td>\n",
       "      <td>30.2</td>\n",
       "      <td>1</td>\n",
       "      <td>Yes</td>\n",
       "      <td>Credit Card</td>\n",
       "      <td>North</td>\n",
       "      <td>India</td>\n",
       "      <td>0</td>\n",
       "    </tr>\n",
       "    <tr>\n",
       "      <th>1</th>\n",
       "      <td>CUST0002</td>\n",
       "      <td>2024-01-23</td>\n",
       "      <td>NaT</td>\n",
       "      <td>Premium</td>\n",
       "      <td>35</td>\n",
       "      <td>5.3</td>\n",
       "      <td>3</td>\n",
       "      <td>Yes</td>\n",
       "      <td>Credit Card</td>\n",
       "      <td>North</td>\n",
       "      <td>India</td>\n",
       "      <td>0</td>\n",
       "    </tr>\n",
       "    <tr>\n",
       "      <th>2</th>\n",
       "      <td>CUST0003</td>\n",
       "      <td>2025-05-23</td>\n",
       "      <td>2025-05-27</td>\n",
       "      <td>Premium</td>\n",
       "      <td>35</td>\n",
       "      <td>24.9</td>\n",
       "      <td>4</td>\n",
       "      <td>Yes</td>\n",
       "      <td>UPI</td>\n",
       "      <td>West</td>\n",
       "      <td>India</td>\n",
       "      <td>1</td>\n",
       "    </tr>\n",
       "    <tr>\n",
       "      <th>3</th>\n",
       "      <td>CUST0004</td>\n",
       "      <td>2025-06-14</td>\n",
       "      <td>2025-06-19</td>\n",
       "      <td>Premium</td>\n",
       "      <td>35</td>\n",
       "      <td>12.6</td>\n",
       "      <td>0</td>\n",
       "      <td>Yes</td>\n",
       "      <td>UPI</td>\n",
       "      <td>West</td>\n",
       "      <td>India</td>\n",
       "      <td>1</td>\n",
       "    </tr>\n",
       "    <tr>\n",
       "      <th>4</th>\n",
       "      <td>CUST0005</td>\n",
       "      <td>2025-05-02</td>\n",
       "      <td>NaT</td>\n",
       "      <td>Basic</td>\n",
       "      <td>10</td>\n",
       "      <td>10.2</td>\n",
       "      <td>2</td>\n",
       "      <td>Yes</td>\n",
       "      <td>Credit Card</td>\n",
       "      <td>West</td>\n",
       "      <td>India</td>\n",
       "      <td>0</td>\n",
       "    </tr>\n",
       "    <tr>\n",
       "      <th>...</th>\n",
       "      <td>...</td>\n",
       "      <td>...</td>\n",
       "      <td>...</td>\n",
       "      <td>...</td>\n",
       "      <td>...</td>\n",
       "      <td>...</td>\n",
       "      <td>...</td>\n",
       "      <td>...</td>\n",
       "      <td>...</td>\n",
       "      <td>...</td>\n",
       "      <td>...</td>\n",
       "      <td>...</td>\n",
       "    </tr>\n",
       "    <tr>\n",
       "      <th>995</th>\n",
       "      <td>CUST0996</td>\n",
       "      <td>2024-10-10</td>\n",
       "      <td>NaT</td>\n",
       "      <td>Standard</td>\n",
       "      <td>20</td>\n",
       "      <td>7.3</td>\n",
       "      <td>4</td>\n",
       "      <td>Yes</td>\n",
       "      <td>Credit Card</td>\n",
       "      <td>South</td>\n",
       "      <td>India</td>\n",
       "      <td>0</td>\n",
       "    </tr>\n",
       "    <tr>\n",
       "      <th>996</th>\n",
       "      <td>CUST0997</td>\n",
       "      <td>2023-12-08</td>\n",
       "      <td>NaT</td>\n",
       "      <td>Premium</td>\n",
       "      <td>35</td>\n",
       "      <td>39.5</td>\n",
       "      <td>0</td>\n",
       "      <td>No</td>\n",
       "      <td>Credit Card</td>\n",
       "      <td>North</td>\n",
       "      <td>India</td>\n",
       "      <td>0</td>\n",
       "    </tr>\n",
       "    <tr>\n",
       "      <th>997</th>\n",
       "      <td>CUST0998</td>\n",
       "      <td>2025-02-25</td>\n",
       "      <td>NaT</td>\n",
       "      <td>Standard</td>\n",
       "      <td>20</td>\n",
       "      <td>17.8</td>\n",
       "      <td>4</td>\n",
       "      <td>No</td>\n",
       "      <td>UPI</td>\n",
       "      <td>South</td>\n",
       "      <td>India</td>\n",
       "      <td>0</td>\n",
       "    </tr>\n",
       "    <tr>\n",
       "      <th>998</th>\n",
       "      <td>CUST0999</td>\n",
       "      <td>2023-08-29</td>\n",
       "      <td>2024-07-01</td>\n",
       "      <td>Standard</td>\n",
       "      <td>20</td>\n",
       "      <td>13.0</td>\n",
       "      <td>3</td>\n",
       "      <td>Yes</td>\n",
       "      <td>Credit Card</td>\n",
       "      <td>East</td>\n",
       "      <td>India</td>\n",
       "      <td>1</td>\n",
       "    </tr>\n",
       "    <tr>\n",
       "      <th>999</th>\n",
       "      <td>CUST1000</td>\n",
       "      <td>2024-06-26</td>\n",
       "      <td>NaT</td>\n",
       "      <td>Premium</td>\n",
       "      <td>35</td>\n",
       "      <td>19.6</td>\n",
       "      <td>0</td>\n",
       "      <td>Yes</td>\n",
       "      <td>Credit Card</td>\n",
       "      <td>East</td>\n",
       "      <td>India</td>\n",
       "      <td>0</td>\n",
       "    </tr>\n",
       "  </tbody>\n",
       "</table>\n",
       "<p>1000 rows × 12 columns</p>\n",
       "</div>"
      ],
      "text/plain": [
       "    CustomerID   JoinDate CancelDate  PlanType  MonthlyFee  \\\n",
       "0     CUST0001 2023-07-10        NaT     Basic          10   \n",
       "1     CUST0002 2024-01-23        NaT   Premium          35   \n",
       "2     CUST0003 2025-05-23 2025-05-27   Premium          35   \n",
       "3     CUST0004 2025-06-14 2025-06-19   Premium          35   \n",
       "4     CUST0005 2025-05-02        NaT     Basic          10   \n",
       "..         ...        ...        ...       ...         ...   \n",
       "995   CUST0996 2024-10-10        NaT  Standard          20   \n",
       "996   CUST0997 2023-12-08        NaT   Premium          35   \n",
       "997   CUST0998 2025-02-25        NaT  Standard          20   \n",
       "998   CUST0999 2023-08-29 2024-07-01  Standard          20   \n",
       "999   CUST1000 2024-06-26        NaT   Premium          35   \n",
       "\n",
       "     MonthlyHoursWatched  SupportContacts AutoRenew PaymentMethod Region  \\\n",
       "0                   30.2                1       Yes   Credit Card  North   \n",
       "1                    5.3                3       Yes   Credit Card  North   \n",
       "2                   24.9                4       Yes           UPI   West   \n",
       "3                   12.6                0       Yes           UPI   West   \n",
       "4                   10.2                2       Yes   Credit Card   West   \n",
       "..                   ...              ...       ...           ...    ...   \n",
       "995                  7.3                4       Yes   Credit Card  South   \n",
       "996                 39.5                0        No   Credit Card  North   \n",
       "997                 17.8                4        No           UPI  South   \n",
       "998                 13.0                3       Yes   Credit Card   East   \n",
       "999                 19.6                0       Yes   Credit Card   East   \n",
       "\n",
       "    country  IsChurned  \n",
       "0     India          0  \n",
       "1     India          0  \n",
       "2     India          1  \n",
       "3     India          1  \n",
       "4     India          0  \n",
       "..      ...        ...  \n",
       "995   India          0  \n",
       "996   India          0  \n",
       "997   India          0  \n",
       "998   India          1  \n",
       "999   India          0  \n",
       "\n",
       "[1000 rows x 12 columns]"
      ]
     },
     "execution_count": 49,
     "metadata": {},
     "output_type": "execute_result"
    }
   ],
   "source": [
    "df\n"
   ]
  },
  {
   "cell_type": "code",
   "execution_count": 51,
   "id": "11139547-871f-4bda-b924-0e30ca2f1b39",
   "metadata": {},
   "outputs": [
    {
     "name": "stdout",
     "output_type": "stream",
     "text": [
      "  CustomerID   JoinDate CancelDate PlanType  MonthlyFee  MonthlyHoursWatched  \\\n",
      "0   CUST0001 2023-07-10        NaT    Basic          10                 30.2   \n",
      "1   CUST0002 2024-01-23        NaT  Premium          35                  5.3   \n",
      "\n",
      "   SupportContacts AutoRenew PaymentMethod Region country  IsChurned  \n",
      "0                1       Yes   Credit Card  North   India          0  \n",
      "1                3       Yes   Credit Card  North   India          0  \n"
     ]
    }
   ],
   "source": [
    "print(df.head(2))"
   ]
  },
  {
   "cell_type": "code",
   "execution_count": 53,
   "id": "38dcd8cf-8c5c-4b17-8edb-f712d9ac4d53",
   "metadata": {},
   "outputs": [
    {
     "name": "stdout",
     "output_type": "stream",
     "text": [
      "    CustomerID   JoinDate CancelDate  PlanType  MonthlyFee  \\\n",
      "998   CUST0999 2023-08-29 2024-07-01  Standard          20   \n",
      "999   CUST1000 2024-06-26        NaT   Premium          35   \n",
      "\n",
      "     MonthlyHoursWatched  SupportContacts AutoRenew PaymentMethod Region  \\\n",
      "998                 13.0                3       Yes   Credit Card   East   \n",
      "999                 19.6                0       Yes   Credit Card   East   \n",
      "\n",
      "    country  IsChurned  \n",
      "998   India          1  \n",
      "999   India          0  \n"
     ]
    }
   ],
   "source": [
    "print(df.tail(2))"
   ]
  },
  {
   "cell_type": "code",
   "execution_count": 18,
   "id": "7abbb7d4-81a5-4fa1-b470-cbe6b4ab06d6",
   "metadata": {},
   "outputs": [
    {
     "name": "stdout",
     "output_type": "stream",
     "text": [
      "<class 'pandas.core.frame.DataFrame'>\n",
      "RangeIndex: 1000 entries, 0 to 999\n",
      "Data columns (total 11 columns):\n",
      " #   Column               Non-Null Count  Dtype         \n",
      "---  ------               --------------  -----         \n",
      " 0   CustomerID           1000 non-null   object        \n",
      " 1   JoinDate             1000 non-null   datetime64[ns]\n",
      " 2   CancelDate           307 non-null    datetime64[ns]\n",
      " 3   PlanType             1000 non-null   object        \n",
      " 4   MonthlyFee           1000 non-null   int64         \n",
      " 5   MonthlyHoursWatched  1000 non-null   float64       \n",
      " 6   SupportContacts      1000 non-null   int64         \n",
      " 7   AutoRenew            1000 non-null   object        \n",
      " 8   PaymentMethod        1000 non-null   object        \n",
      " 9   Region               1000 non-null   object        \n",
      " 10  country              1000 non-null   object        \n",
      "dtypes: datetime64[ns](2), float64(1), int64(2), object(6)\n",
      "memory usage: 86.1+ KB\n",
      "None\n"
     ]
    }
   ],
   "source": [
    "print(df.info())\n"
   ]
  },
  {
   "cell_type": "code",
   "execution_count": 19,
   "id": "735e5330-1f6d-4ffb-9d30-81e39f870070",
   "metadata": {},
   "outputs": [
    {
     "name": "stdout",
     "output_type": "stream",
     "text": [
      "(1000, 11)\n"
     ]
    }
   ],
   "source": [
    "print (df.shape)"
   ]
  },
  {
   "cell_type": "code",
   "execution_count": 54,
   "id": "4bbd4e2d-cb38-49e4-b62d-793bfb83e0aa",
   "metadata": {},
   "outputs": [
    {
     "data": {
      "text/html": [
       "<div>\n",
       "<style scoped>\n",
       "    .dataframe tbody tr th:only-of-type {\n",
       "        vertical-align: middle;\n",
       "    }\n",
       "\n",
       "    .dataframe tbody tr th {\n",
       "        vertical-align: top;\n",
       "    }\n",
       "\n",
       "    .dataframe thead th {\n",
       "        text-align: right;\n",
       "    }\n",
       "</style>\n",
       "<table border=\"1\" class=\"dataframe\">\n",
       "  <thead>\n",
       "    <tr style=\"text-align: right;\">\n",
       "      <th></th>\n",
       "      <th>JoinDate</th>\n",
       "      <th>CancelDate</th>\n",
       "      <th>MonthlyFee</th>\n",
       "      <th>MonthlyHoursWatched</th>\n",
       "      <th>SupportContacts</th>\n",
       "      <th>IsChurned</th>\n",
       "    </tr>\n",
       "  </thead>\n",
       "  <tbody>\n",
       "    <tr>\n",
       "      <th>count</th>\n",
       "      <td>1000</td>\n",
       "      <td>307</td>\n",
       "      <td>1000.000000</td>\n",
       "      <td>1000.000000</td>\n",
       "      <td>1000.000000</td>\n",
       "      <td>1000.00000</td>\n",
       "    </tr>\n",
       "    <tr>\n",
       "      <th>mean</th>\n",
       "      <td>2024-07-03 18:10:04.800000</td>\n",
       "      <td>2025-01-06 17:02:32.442996736</td>\n",
       "      <td>22.260000</td>\n",
       "      <td>21.104100</td>\n",
       "      <td>2.527000</td>\n",
       "      <td>0.30700</td>\n",
       "    </tr>\n",
       "    <tr>\n",
       "      <th>min</th>\n",
       "      <td>2023-07-01 00:00:00</td>\n",
       "      <td>2023-07-28 00:00:00</td>\n",
       "      <td>10.000000</td>\n",
       "      <td>2.000000</td>\n",
       "      <td>0.000000</td>\n",
       "      <td>0.00000</td>\n",
       "    </tr>\n",
       "    <tr>\n",
       "      <th>25%</th>\n",
       "      <td>2023-12-26 00:00:00</td>\n",
       "      <td>2024-09-28 12:00:00</td>\n",
       "      <td>10.000000</td>\n",
       "      <td>11.475000</td>\n",
       "      <td>1.000000</td>\n",
       "      <td>0.00000</td>\n",
       "    </tr>\n",
       "    <tr>\n",
       "      <th>50%</th>\n",
       "      <td>2024-07-06 00:00:00</td>\n",
       "      <td>2025-02-28 00:00:00</td>\n",
       "      <td>20.000000</td>\n",
       "      <td>21.750000</td>\n",
       "      <td>3.000000</td>\n",
       "      <td>0.00000</td>\n",
       "    </tr>\n",
       "    <tr>\n",
       "      <th>75%</th>\n",
       "      <td>2025-01-02 06:00:00</td>\n",
       "      <td>2025-05-09 00:00:00</td>\n",
       "      <td>35.000000</td>\n",
       "      <td>30.300000</td>\n",
       "      <td>4.000000</td>\n",
       "      <td>1.00000</td>\n",
       "    </tr>\n",
       "    <tr>\n",
       "      <th>max</th>\n",
       "      <td>2025-06-28 00:00:00</td>\n",
       "      <td>2025-06-28 00:00:00</td>\n",
       "      <td>35.000000</td>\n",
       "      <td>40.000000</td>\n",
       "      <td>5.000000</td>\n",
       "      <td>1.00000</td>\n",
       "    </tr>\n",
       "    <tr>\n",
       "      <th>std</th>\n",
       "      <td>NaN</td>\n",
       "      <td>NaN</td>\n",
       "      <td>10.363387</td>\n",
       "      <td>10.855257</td>\n",
       "      <td>1.691784</td>\n",
       "      <td>0.46148</td>\n",
       "    </tr>\n",
       "  </tbody>\n",
       "</table>\n",
       "</div>"
      ],
      "text/plain": [
       "                         JoinDate                     CancelDate   MonthlyFee  \\\n",
       "count                        1000                            307  1000.000000   \n",
       "mean   2024-07-03 18:10:04.800000  2025-01-06 17:02:32.442996736    22.260000   \n",
       "min           2023-07-01 00:00:00            2023-07-28 00:00:00    10.000000   \n",
       "25%           2023-12-26 00:00:00            2024-09-28 12:00:00    10.000000   \n",
       "50%           2024-07-06 00:00:00            2025-02-28 00:00:00    20.000000   \n",
       "75%           2025-01-02 06:00:00            2025-05-09 00:00:00    35.000000   \n",
       "max           2025-06-28 00:00:00            2025-06-28 00:00:00    35.000000   \n",
       "std                           NaN                            NaN    10.363387   \n",
       "\n",
       "       MonthlyHoursWatched  SupportContacts   IsChurned  \n",
       "count          1000.000000      1000.000000  1000.00000  \n",
       "mean             21.104100         2.527000     0.30700  \n",
       "min               2.000000         0.000000     0.00000  \n",
       "25%              11.475000         1.000000     0.00000  \n",
       "50%              21.750000         3.000000     0.00000  \n",
       "75%              30.300000         4.000000     1.00000  \n",
       "max              40.000000         5.000000     1.00000  \n",
       "std              10.855257         1.691784     0.46148  "
      ]
     },
     "execution_count": 54,
     "metadata": {},
     "output_type": "execute_result"
    }
   ],
   "source": [
    "df.describe()"
   ]
  },
  {
   "cell_type": "code",
   "execution_count": 39,
   "id": "bf1aac73-caae-46c5-b17a-9b94e902bf47",
   "metadata": {},
   "outputs": [
    {
     "data": {
      "text/plain": [
       "CustomerID               0\n",
       "JoinDate                 0\n",
       "CancelDate             693\n",
       "PlanType                 0\n",
       "MonthlyFee               0\n",
       "MonthlyHoursWatched      0\n",
       "SupportContacts          0\n",
       "AutoRenew                0\n",
       "PaymentMethod            0\n",
       "Region                   0\n",
       "country                  0\n",
       "dtype: int64"
      ]
     },
     "execution_count": 39,
     "metadata": {},
     "output_type": "execute_result"
    }
   ],
   "source": [
    "df.isnull().sum()"
   ]
  },
  {
   "cell_type": "code",
   "execution_count": 22,
   "id": "96411d74-63a0-4066-b2b3-d57a2c91b5af",
   "metadata": {},
   "outputs": [
    {
     "name": "stdout",
     "output_type": "stream",
     "text": [
      "       CustomerID                    JoinDate                     CancelDate  \\\n",
      "count        1000                        1000                            307   \n",
      "unique       1000                         NaN                            NaN   \n",
      "top      CUST0001                         NaN                            NaN   \n",
      "freq            1                         NaN                            NaN   \n",
      "mean          NaN  2024-07-03 18:10:04.800000  2025-01-06 17:02:32.442996736   \n",
      "min           NaN         2023-07-01 00:00:00            2023-07-28 00:00:00   \n",
      "25%           NaN         2023-12-26 00:00:00            2024-09-28 12:00:00   \n",
      "50%           NaN         2024-07-06 00:00:00            2025-02-28 00:00:00   \n",
      "75%           NaN         2025-01-02 06:00:00            2025-05-09 00:00:00   \n",
      "max           NaN         2025-06-28 00:00:00            2025-06-28 00:00:00   \n",
      "std           NaN                         NaN                            NaN   \n",
      "\n",
      "       PlanType   MonthlyFee  MonthlyHoursWatched  SupportContacts AutoRenew  \\\n",
      "count      1000  1000.000000          1000.000000      1000.000000      1000   \n",
      "unique        3          NaN                  NaN              NaN         2   \n",
      "top     Premium          NaN                  NaN              NaN        No   \n",
      "freq        360          NaN                  NaN              NaN       507   \n",
      "mean        NaN    22.260000            21.104100         2.527000       NaN   \n",
      "min         NaN    10.000000             2.000000         0.000000       NaN   \n",
      "25%         NaN    10.000000            11.475000         1.000000       NaN   \n",
      "50%         NaN    20.000000            21.750000         3.000000       NaN   \n",
      "75%         NaN    35.000000            30.300000         4.000000       NaN   \n",
      "max         NaN    35.000000            40.000000         5.000000       NaN   \n",
      "std         NaN    10.363387            10.855257         1.691784       NaN   \n",
      "\n",
      "       PaymentMethod Region country  \n",
      "count           1000   1000    1000  \n",
      "unique             2      4       1  \n",
      "top      Credit Card  North   India  \n",
      "freq             657    259    1000  \n",
      "mean             NaN    NaN     NaN  \n",
      "min              NaN    NaN     NaN  \n",
      "25%              NaN    NaN     NaN  \n",
      "50%              NaN    NaN     NaN  \n",
      "75%              NaN    NaN     NaN  \n",
      "max              NaN    NaN     NaN  \n",
      "std              NaN    NaN     NaN  \n"
     ]
    }
   ],
   "source": [
    "print(df.describe(include=\"all\"))"
   ]
  },
  {
   "cell_type": "code",
   "execution_count": 23,
   "id": "c4a1f69c-20fc-4864-96ca-4c5a2756a794",
   "metadata": {},
   "outputs": [
    {
     "name": "stdout",
     "output_type": "stream",
     "text": [
      "0\n"
     ]
    }
   ],
   "source": [
    "print(df.duplicated().sum())\n"
   ]
  },
  {
   "cell_type": "code",
   "execution_count": 24,
   "id": "f6eacfeb-9391-431f-b128-58f1981086cb",
   "metadata": {},
   "outputs": [
    {
     "name": "stdout",
     "output_type": "stream",
     "text": [
      "['Basic' 'Premium' 'Standard']\n"
     ]
    }
   ],
   "source": [
    "print(df[\"PlanType\"].unique())\n"
   ]
  },
  {
   "cell_type": "code",
   "execution_count": 25,
   "id": "0b93d0b8-2150-4a62-bbe2-74a08a839b04",
   "metadata": {},
   "outputs": [
    {
     "name": "stdout",
     "output_type": "stream",
     "text": [
      "['Yes' 'No']\n"
     ]
    }
   ],
   "source": [
    "print(df[\"AutoRenew\"].unique())\n"
   ]
  },
  {
   "cell_type": "code",
   "execution_count": 26,
   "id": "0b6c0eb0-adc4-4c14-b96a-5ba91aebf4eb",
   "metadata": {},
   "outputs": [
    {
     "name": "stdout",
     "output_type": "stream",
     "text": [
      "count    1000.000000\n",
      "mean       22.260000\n",
      "std        10.363387\n",
      "min        10.000000\n",
      "25%        10.000000\n",
      "50%        20.000000\n",
      "75%        35.000000\n",
      "max        35.000000\n",
      "Name: MonthlyFee, dtype: float64\n"
     ]
    }
   ],
   "source": [
    "print(df[\"MonthlyFee\"].describe())\n"
   ]
  },
  {
   "cell_type": "code",
   "execution_count": 27,
   "id": "e62851c7-843b-425b-a718-a47de55e2d75",
   "metadata": {},
   "outputs": [
    {
     "name": "stdout",
     "output_type": "stream",
     "text": [
      "    JoinDate CancelDate\n",
      "0 2023-07-10        NaT\n",
      "1 2024-01-23        NaT\n",
      "2 2025-05-23 2025-05-27\n",
      "3 2025-06-14 2025-06-19\n",
      "4 2025-05-02        NaT\n"
     ]
    }
   ],
   "source": [
    "print(df[[\"JoinDate\", \"CancelDate\"]].head())\n"
   ]
  },
  {
   "cell_type": "code",
   "execution_count": 45,
   "id": "bab2054d-9371-4571-8582-88a04a46485b",
   "metadata": {},
   "outputs": [],
   "source": [
    "df[\"IsChurned\"] = df[\"CancelDate\"].notnull().astype(int)\n"
   ]
  },
  {
   "cell_type": "code",
   "execution_count": 29,
   "id": "6ff83316-b778-45cc-9ae5-0ae2a2b0ec8e",
   "metadata": {},
   "outputs": [
    {
     "data": {
      "text/html": [
       "<div>\n",
       "<style scoped>\n",
       "    .dataframe tbody tr th:only-of-type {\n",
       "        vertical-align: middle;\n",
       "    }\n",
       "\n",
       "    .dataframe tbody tr th {\n",
       "        vertical-align: top;\n",
       "    }\n",
       "\n",
       "    .dataframe thead th {\n",
       "        text-align: right;\n",
       "    }\n",
       "</style>\n",
       "<table border=\"1\" class=\"dataframe\">\n",
       "  <thead>\n",
       "    <tr style=\"text-align: right;\">\n",
       "      <th></th>\n",
       "      <th>CustomerID</th>\n",
       "      <th>JoinDate</th>\n",
       "      <th>CancelDate</th>\n",
       "      <th>PlanType</th>\n",
       "      <th>MonthlyFee</th>\n",
       "      <th>MonthlyHoursWatched</th>\n",
       "      <th>SupportContacts</th>\n",
       "      <th>AutoRenew</th>\n",
       "      <th>PaymentMethod</th>\n",
       "      <th>Region</th>\n",
       "      <th>country</th>\n",
       "      <th>IsChurned</th>\n",
       "    </tr>\n",
       "  </thead>\n",
       "  <tbody>\n",
       "    <tr>\n",
       "      <th>0</th>\n",
       "      <td>CUST0001</td>\n",
       "      <td>2023-07-10</td>\n",
       "      <td>NaT</td>\n",
       "      <td>Basic</td>\n",
       "      <td>10</td>\n",
       "      <td>30.2</td>\n",
       "      <td>1</td>\n",
       "      <td>Yes</td>\n",
       "      <td>Credit Card</td>\n",
       "      <td>North</td>\n",
       "      <td>India</td>\n",
       "      <td>0</td>\n",
       "    </tr>\n",
       "    <tr>\n",
       "      <th>1</th>\n",
       "      <td>CUST0002</td>\n",
       "      <td>2024-01-23</td>\n",
       "      <td>NaT</td>\n",
       "      <td>Premium</td>\n",
       "      <td>35</td>\n",
       "      <td>5.3</td>\n",
       "      <td>3</td>\n",
       "      <td>Yes</td>\n",
       "      <td>Credit Card</td>\n",
       "      <td>North</td>\n",
       "      <td>India</td>\n",
       "      <td>0</td>\n",
       "    </tr>\n",
       "    <tr>\n",
       "      <th>2</th>\n",
       "      <td>CUST0003</td>\n",
       "      <td>2025-05-23</td>\n",
       "      <td>2025-05-27</td>\n",
       "      <td>Premium</td>\n",
       "      <td>35</td>\n",
       "      <td>24.9</td>\n",
       "      <td>4</td>\n",
       "      <td>Yes</td>\n",
       "      <td>UPI</td>\n",
       "      <td>West</td>\n",
       "      <td>India</td>\n",
       "      <td>1</td>\n",
       "    </tr>\n",
       "    <tr>\n",
       "      <th>3</th>\n",
       "      <td>CUST0004</td>\n",
       "      <td>2025-06-14</td>\n",
       "      <td>2025-06-19</td>\n",
       "      <td>Premium</td>\n",
       "      <td>35</td>\n",
       "      <td>12.6</td>\n",
       "      <td>0</td>\n",
       "      <td>Yes</td>\n",
       "      <td>UPI</td>\n",
       "      <td>West</td>\n",
       "      <td>India</td>\n",
       "      <td>1</td>\n",
       "    </tr>\n",
       "    <tr>\n",
       "      <th>4</th>\n",
       "      <td>CUST0005</td>\n",
       "      <td>2025-05-02</td>\n",
       "      <td>NaT</td>\n",
       "      <td>Basic</td>\n",
       "      <td>10</td>\n",
       "      <td>10.2</td>\n",
       "      <td>2</td>\n",
       "      <td>Yes</td>\n",
       "      <td>Credit Card</td>\n",
       "      <td>West</td>\n",
       "      <td>India</td>\n",
       "      <td>0</td>\n",
       "    </tr>\n",
       "    <tr>\n",
       "      <th>...</th>\n",
       "      <td>...</td>\n",
       "      <td>...</td>\n",
       "      <td>...</td>\n",
       "      <td>...</td>\n",
       "      <td>...</td>\n",
       "      <td>...</td>\n",
       "      <td>...</td>\n",
       "      <td>...</td>\n",
       "      <td>...</td>\n",
       "      <td>...</td>\n",
       "      <td>...</td>\n",
       "      <td>...</td>\n",
       "    </tr>\n",
       "    <tr>\n",
       "      <th>995</th>\n",
       "      <td>CUST0996</td>\n",
       "      <td>2024-10-10</td>\n",
       "      <td>NaT</td>\n",
       "      <td>Standard</td>\n",
       "      <td>20</td>\n",
       "      <td>7.3</td>\n",
       "      <td>4</td>\n",
       "      <td>Yes</td>\n",
       "      <td>Credit Card</td>\n",
       "      <td>South</td>\n",
       "      <td>India</td>\n",
       "      <td>0</td>\n",
       "    </tr>\n",
       "    <tr>\n",
       "      <th>996</th>\n",
       "      <td>CUST0997</td>\n",
       "      <td>2023-12-08</td>\n",
       "      <td>NaT</td>\n",
       "      <td>Premium</td>\n",
       "      <td>35</td>\n",
       "      <td>39.5</td>\n",
       "      <td>0</td>\n",
       "      <td>No</td>\n",
       "      <td>Credit Card</td>\n",
       "      <td>North</td>\n",
       "      <td>India</td>\n",
       "      <td>0</td>\n",
       "    </tr>\n",
       "    <tr>\n",
       "      <th>997</th>\n",
       "      <td>CUST0998</td>\n",
       "      <td>2025-02-25</td>\n",
       "      <td>NaT</td>\n",
       "      <td>Standard</td>\n",
       "      <td>20</td>\n",
       "      <td>17.8</td>\n",
       "      <td>4</td>\n",
       "      <td>No</td>\n",
       "      <td>UPI</td>\n",
       "      <td>South</td>\n",
       "      <td>India</td>\n",
       "      <td>0</td>\n",
       "    </tr>\n",
       "    <tr>\n",
       "      <th>998</th>\n",
       "      <td>CUST0999</td>\n",
       "      <td>2023-08-29</td>\n",
       "      <td>2024-07-01</td>\n",
       "      <td>Standard</td>\n",
       "      <td>20</td>\n",
       "      <td>13.0</td>\n",
       "      <td>3</td>\n",
       "      <td>Yes</td>\n",
       "      <td>Credit Card</td>\n",
       "      <td>East</td>\n",
       "      <td>India</td>\n",
       "      <td>1</td>\n",
       "    </tr>\n",
       "    <tr>\n",
       "      <th>999</th>\n",
       "      <td>CUST1000</td>\n",
       "      <td>2024-06-26</td>\n",
       "      <td>NaT</td>\n",
       "      <td>Premium</td>\n",
       "      <td>35</td>\n",
       "      <td>19.6</td>\n",
       "      <td>0</td>\n",
       "      <td>Yes</td>\n",
       "      <td>Credit Card</td>\n",
       "      <td>East</td>\n",
       "      <td>India</td>\n",
       "      <td>0</td>\n",
       "    </tr>\n",
       "  </tbody>\n",
       "</table>\n",
       "<p>1000 rows × 12 columns</p>\n",
       "</div>"
      ],
      "text/plain": [
       "    CustomerID   JoinDate CancelDate  PlanType  MonthlyFee  \\\n",
       "0     CUST0001 2023-07-10        NaT     Basic          10   \n",
       "1     CUST0002 2024-01-23        NaT   Premium          35   \n",
       "2     CUST0003 2025-05-23 2025-05-27   Premium          35   \n",
       "3     CUST0004 2025-06-14 2025-06-19   Premium          35   \n",
       "4     CUST0005 2025-05-02        NaT     Basic          10   \n",
       "..         ...        ...        ...       ...         ...   \n",
       "995   CUST0996 2024-10-10        NaT  Standard          20   \n",
       "996   CUST0997 2023-12-08        NaT   Premium          35   \n",
       "997   CUST0998 2025-02-25        NaT  Standard          20   \n",
       "998   CUST0999 2023-08-29 2024-07-01  Standard          20   \n",
       "999   CUST1000 2024-06-26        NaT   Premium          35   \n",
       "\n",
       "     MonthlyHoursWatched  SupportContacts AutoRenew PaymentMethod Region  \\\n",
       "0                   30.2                1       Yes   Credit Card  North   \n",
       "1                    5.3                3       Yes   Credit Card  North   \n",
       "2                   24.9                4       Yes           UPI   West   \n",
       "3                   12.6                0       Yes           UPI   West   \n",
       "4                   10.2                2       Yes   Credit Card   West   \n",
       "..                   ...              ...       ...           ...    ...   \n",
       "995                  7.3                4       Yes   Credit Card  South   \n",
       "996                 39.5                0        No   Credit Card  North   \n",
       "997                 17.8                4        No           UPI  South   \n",
       "998                 13.0                3       Yes   Credit Card   East   \n",
       "999                 19.6                0       Yes   Credit Card   East   \n",
       "\n",
       "    country  IsChurned  \n",
       "0     India          0  \n",
       "1     India          0  \n",
       "2     India          1  \n",
       "3     India          1  \n",
       "4     India          0  \n",
       "..      ...        ...  \n",
       "995   India          0  \n",
       "996   India          0  \n",
       "997   India          0  \n",
       "998   India          1  \n",
       "999   India          0  \n",
       "\n",
       "[1000 rows x 12 columns]"
      ]
     },
     "execution_count": 29,
     "metadata": {},
     "output_type": "execute_result"
    }
   ],
   "source": [
    "df\n"
   ]
  },
  {
   "cell_type": "code",
   "execution_count": 30,
   "id": "fd6132a2-22a7-47ba-924c-46b75ec13db9",
   "metadata": {},
   "outputs": [],
   "source": [
    "df.to_csv(\"subscription_churn_india.xlsx\", index=False)\n"
   ]
  },
  {
   "cell_type": "code",
   "execution_count": 31,
   "id": "3d25f8c7-0f94-44b9-96eb-1c215f5b82f2",
   "metadata": {},
   "outputs": [
    {
     "name": "stdout",
     "output_type": "stream",
     "text": [
      "Overall churn rate: 30.70%\n"
     ]
    }
   ],
   "source": [
    "churn_rate = df[\"IsChurned\"].mean() * 100\n",
    "print(f\"Overall churn rate: {churn_rate:.2f}%\")\n"
   ]
  },
  {
   "cell_type": "code",
   "execution_count": 32,
   "id": "780e23c8-fd8f-459a-8626-2bd42d3593a0",
   "metadata": {},
   "outputs": [
    {
     "name": "stdout",
     "output_type": "stream",
     "text": [
      "PlanType\n",
      "Basic       28.980892\n",
      "Premium     32.777778\n",
      "Standard    30.061350\n",
      "Name: IsChurned, dtype: float64\n"
     ]
    }
   ],
   "source": [
    "plan_churn = df.groupby(\"PlanType\")[\"IsChurned\"].mean() * 100\n",
    "print(plan_churn)\n"
   ]
  },
  {
   "cell_type": "code",
   "execution_count": 33,
   "id": "e199fa37-a5f4-4db0-b20e-1d0af358490b",
   "metadata": {},
   "outputs": [
    {
     "name": "stdout",
     "output_type": "stream",
     "text": [
      "Region\n",
      "East     31.818182\n",
      "North    31.274131\n",
      "South    28.793774\n",
      "West     30.991736\n",
      "Name: IsChurned, dtype: float64\n"
     ]
    }
   ],
   "source": [
    "region_churn = df.groupby(\"Region\")[\"IsChurned\"].mean() * 100\n",
    "print(region_churn)\n"
   ]
  },
  {
   "cell_type": "code",
   "execution_count": 34,
   "id": "d0329331-df8a-44a1-8b47-86e03abd03b4",
   "metadata": {},
   "outputs": [
    {
     "name": "stdout",
     "output_type": "stream",
     "text": [
      "AutoRenew\n",
      "No     29.388560\n",
      "Yes    32.048682\n",
      "Name: IsChurned, dtype: float64\n"
     ]
    }
   ],
   "source": [
    "autorenew_churn = df.groupby(\"AutoRenew\")[\"IsChurned\"].mean() * 100\n",
    "print(autorenew_churn)\n"
   ]
  },
  {
   "cell_type": "code",
   "execution_count": 41,
   "id": "8a2c3b12-9594-4019-b047-ada32be88ee6",
   "metadata": {},
   "outputs": [
    {
     "name": "stdout",
     "output_type": "stream",
     "text": [
      "['CustomerID', 'JoinDate', 'CancelDate', 'PlanType', 'MonthlyFee', 'MonthlyHoursWatched', 'SupportContacts', 'AutoRenew', 'PaymentMethod', 'Region', 'country']\n"
     ]
    }
   ],
   "source": [
    "print(df.columns.tolist())"
   ]
  },
  {
   "cell_type": "code",
   "execution_count": 48,
   "id": "28adb9da-28c8-4337-a7d3-4867a05c6f23",
   "metadata": {},
   "outputs": [
    {
     "data": {
      "image/png": "[encoded data removed]",
      "text/plain": [
       "<Figure size 640x480 with 1 Axes>"
      ]
     },
     "metadata": {},
     "output_type": "display_data"
    }
   ],
   "source": [
    "sns.countplot(x=\"PlanType\", hue=\"IsChurned\", data=df)\n",
    "plt.title(\"Churn by Plan Type\")\n",
    "plt.show()\n"
   ]
  },
  {
   "cell_type": "code",
   "execution_count": null,
   "id": "a421a670-a38e-4bdd-b763-e5ce866cbad0",
   "metadata": {},
   "outputs": [],
   "source": []
  }
 ],
 "metadata": {
  "kernelspec": {
   "display_name": "Python 3 (ipykernel)",
   "language": "python",
   "name": "python3"
  },
  "language_info": {
   "codemirror_mode": {
    "name": "ipython",
    "version": 3
   },
   "file_extension": ".py",
   "mimetype": "text/x-python",
   "name": "python",
   "nbconvert_exporter": "python",
   "pygments_lexer": "ipython3",
   "version": "3.12.7"
  }
 },
 "nbformat": 4,
 "nbformat_minor": 5
}
